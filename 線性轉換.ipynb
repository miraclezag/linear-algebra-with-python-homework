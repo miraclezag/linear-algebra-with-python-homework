{
 "cells": [
  {
   "cell_type": "code",
   "execution_count": 24,
   "metadata": {},
   "outputs": [
    {
     "data": {
      "image/png": "[encoded data removed]",
      "text/plain": [
       "<matplotlib.figure.Figure at 0x1114ffcc0>"
      ]
     },
     "metadata": {},
     "output_type": "display_data"
    }
   ],
   "source": [
    "#一般正方形\n",
    "import matplotlib as mpl\n",
    "import matplotlib.pyplot as plt\n",
    "import numpy as np\n",
    "mpl.rcParams.update({'image.cmap': 'Accent',\n",
    "                     'image.interpolation': 'none',\n",
    "                     'xtick.major.width': 0,\n",
    "                     'xtick.labelsize': 0,\n",
    "                     'ytick.major.width': 0,\n",
    "                     'ytick.labelsize': 0,\n",
    "                     'axes.linewidth': 0})\n",
    "#200*200的矩陣\n",
    "aux = np.ones((100, 100), dtype=int) \n",
    "src = np.vstack([np.c_[aux, 2*aux], np.c_[3*aux, 4*aux]])\n",
    "plt.imshow(src)\n",
    "plt.show()\n"
   ]
  },
  {
   "cell_type": "code",
   "execution_count": 26,
   "metadata": {},
   "outputs": [
    {
     "data": {
      "image/png": "[encoded data removed]",
      "text/plain": [
       "<matplotlib.figure.Figure at 0x1114f9128>"
      ]
     },
     "metadata": {},
     "output_type": "display_data"
    }
   ],
   "source": [
    "def linear_transformation(src, a):\n",
    "    M, N = src.shape\n",
    "    points = np.mgrid[0:N, 0:M].reshape((2, M*N))\n",
    "    new_points = np.linalg.inv(a).dot(points).round().astype(int)\n",
    "    x, y = new_points.reshape((2, M, N), order='F')\n",
    "    indices = x + N*y\n",
    "    return np.take(src, indices, mode='wrap')\n",
    "\n",
    "#對x軸進行1.5 倍的 scaling\n",
    "a = np.array([[1.5, 0],  \n",
    "              [0, 1]])\n",
    "dst = linear_transformation(src, a)\n",
    "plt.imshow(dst)\n",
    "plt.show()"
   ]
  },
  {
   "cell_type": "code",
   "execution_count": 27,
   "metadata": {},
   "outputs": [],
   "source": [
    "radius = 10\n",
    "a = np.zeros((512, 512)).astype('uint8')\n",
    "cx, cy = 100, 100 # The center of circle\n",
    "y, x = np.ogrid[-radius: radius, -radius: radius]\n",
    "index = x**2 + y**2 <= radius**2\n",
    "plt.show()"
   ]
  },
  {
   "cell_type": "code",
   "execution_count": 3,
   "metadata": {},
   "outputs": [
    {
     "data": {
      "image/png": "[encoded data removed]",
      "text/plain": [
       "<matplotlib.figure.Figure at 0x115b84ef0>"
      ]
     },
     "metadata": {},
     "output_type": "display_data"
    }
   ],
   "source": [
    "import numpy as np\n",
    "import matplotlib.pyplot as plt\n",
    "\n",
    "x = y = np.arange(-4, 4, 0.1)\n",
    "x, y = np.meshgrid(x,y)\n",
    "plt.contour(x, y, x**2 + y**2, [9])     #畫x**2 + y**2 = 9 的圓形\n",
    "\n",
    "plt.axis('scaled')\n",
    "plt.show()\n",
    "\n",
    "\n",
    "\n"
   ]
  },
  {
   "cell_type": "code",
   "execution_count": null,
   "metadata": {
    "collapsed": true
   },
   "outputs": [],
   "source": []
  }
 ],
 "metadata": {
  "kernelspec": {
   "display_name": "Python 3",
   "language": "python",
   "name": "python3"
  },
  "language_info": {
   "codemirror_mode": {
    "name": "ipython",
    "version": 3
   },
   "file_extension": ".py",
   "mimetype": "text/x-python",
   "name": "python",
   "nbconvert_exporter": "python",
   "pygments_lexer": "ipython3",
   "version": "3.6.4"
  }
 },
 "nbformat": 4,
 "nbformat_minor": 2
}
