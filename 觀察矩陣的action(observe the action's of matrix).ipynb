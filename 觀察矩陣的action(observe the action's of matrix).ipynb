{
 "cells": [
  {
   "cell_type": "code",
   "execution_count": 1,
   "metadata": {},
   "outputs": [
    {
     "name": "stdout",
     "output_type": "stream",
     "text": [
      "x的內容：\n",
      "[0.41698959 0.80593425]\n",
      " A的內容是：\n",
      "[[ 1.35771053 -0.54575826]\n",
      " [ 1.04682647 -1.643131  ]]\n"
     ]
    }
   ],
   "source": [
    "%matplotlib inline\n",
    "\n",
    "import matplotlib.pyplot as plt\n",
    "import numpy as np\n",
    "\n",
    "x=np.random.randn(2)\n",
    "A=np.random.randn(2,2)\n",
    "print ('x的內容：\\n{}\\n A的內容是：\\n{}'.format(x,A))"
   ]
  },
  {
   "cell_type": "code",
   "execution_count": 3,
   "metadata": {},
   "outputs": [],
   "source": [
    "def action(pt,n):\n",
    "    record=[pt]\n",
    "    for i in range(n):\n",
    "        pt= A@pt\n",
    "        record=np.vstack([record,pt])\n",
    "    plt.scatter(record[:,1],record[:,1])"
   ]
  },
  {
   "cell_type": "code",
   "execution_count": 4,
   "metadata": {},
   "outputs": [
    {
     "data": {
      "image/png": "[encoded data removed]",
      "text/plain": [
       "<matplotlib.figure.Figure at 0x104e00240>"
      ]
     },
     "metadata": {},
     "output_type": "display_data"
    }
   ],
   "source": [
    "action(x,100)"
   ]
  },
  {
   "cell_type": "code",
   "execution_count": null,
   "metadata": {},
   "outputs": [],
   "source": [
    "from ipywidgets import interact \n",
    "\n",
    "def qq(x,y,n):\n",
    "    pt =np.array([x,y])\n",
    "    action(pt,n)\n",
    "\n",
    "interact(qq,x=(-3.0,5.0),y=(-3.0,2.0),n=(0,200))"
   ]
  },
  {
   "cell_type": "code",
   "execution_count": 37,
   "metadata": {},
   "outputs": [
    {
     "name": "stderr",
     "output_type": "stream",
     "text": [
      "/Users/zen/anaconda3/lib/python3.6/site-packages/ipykernel_launcher.py:27: FutureWarning: `rcond` parameter will change to the default of machine precision times ``max(M, N)`` where M and N are the input matrix dimensions.\n",
      "To use the future default and silence this warning we advise to pass `rcond=None`, to keep using the old, explicitly pass `rcond=-1`.\n"
     ]
    },
    {
     "name": "stdout",
     "output_type": "stream",
     "text": [
      "(-b*x - d + sqrt(-4*a*c*x - 4*a*e + 4*a*x**2 + b**2*x**2 + 2*b*d*x + d**2))/(2*a)\n",
      "-(b*x + d + sqrt(-4*a*c*x - 4*a*e + 4*a*x**2 + b**2*x**2 + 2*b*d*x + d**2))/(2*a)\n"
     ]
    },
    {
     "data": {
      "image/png": "[encoded data removed]",
      "text/plain": [
       "<matplotlib.figure.Figure at 0x151dbcbf98>"
      ]
     },
     "metadata": {},
     "output_type": "display_data"
    }
   ],
   "source": [
    "from numpy import linalg\n",
    "from numpy import linspace\n",
    "import numpy as np\n",
    "from numpy import meshgrid\n",
    "import random\n",
    "import matplotlib.pyplot as plt\n",
    "from scipy import optimize\n",
    "from sympy import *\n",
    "\n",
    "xs = [1.02, 0.95, 0.87, 0.77, 0.67, 0.56, 0.44, 0.30, 0.16, 0.01]\n",
    "ys = [0.39, 0.32, 0.27, 0.22, 0.18, 0.15, 0.13, 0.12, 0.12, 0.15]\n",
    "\n",
    "b = [i ** 2 for i in xs] # That is the list that contains the results that are given as x^2 from the equation.\n",
    "\n",
    "def fxn(x, y):  # That is the function that solves the given equation to find each parameter.\n",
    "    my_list = [] #It is the main list.\n",
    "    for z in range(len(x)):\n",
    "        w = [0] * 5\n",
    "        w[0] = y[z] ** 2\n",
    "        w[1] = x[z] * y[z]\n",
    "        w[2] = x[z]\n",
    "        w[3] = y[z]\n",
    "        w[4] = 1\n",
    "        my_list.append(w)\n",
    "    return my_list\n",
    "\n",
    "t = linalg.lstsq(fxn(xs, ys), b)\n",
    "\n",
    "\n",
    "def ysolv(coeffs):\n",
    "    x,y,a,b,c,d,e = symbols('x y a b c d e')\n",
    "    ellipse = a*y**2 + b*x*y + c*x + d*y + e - x**2\n",
    "    y_sols = solve(ellipse, y)\n",
    "    print(*y_sols, sep='\\n')\n",
    "\n",
    "    num_coefs = [(a, f) for a, f in (zip([a,b,c,d,e], coeffs))]\n",
    "    y_solsf0 = y_sols[0].subs(num_coefs)\n",
    "    y_solsf1 = y_sols[1].subs(num_coefs)\n",
    "\n",
    "    f0 = lambdify([x], y_solsf0)\n",
    "    f1 = lambdify([x], y_solsf1)\n",
    "    return f0, f1\n",
    "\n",
    "f0, f1 = ysolv(t[0])\n",
    "\n",
    "y0 = [f0(x) for x in xs]\n",
    "y1 = [f1(x) for x in xs]\n",
    "\n",
    "plt.scatter(xs, ys)\n",
    "plt.scatter(xs, y0, s=100, color = 'red', marker='+')\n",
    "plt.scatter(xs, y1, s=100, color = 'green', marker='+')\n",
    "plt.show()  "
   ]
  },
  {
   "cell_type": "code",
   "execution_count": null,
   "metadata": {},
   "outputs": [
    {
     "name": "stderr",
     "output_type": "stream",
     "text": [
      "/Users/zen/anaconda3/lib/python3.6/site-packages/numpy/__init__.py:1: RuntimeWarning: invalid value encountered in sqrt\n",
      "  \"\"\"\n"
     ]
    }
   ],
   "source": [
    "def feeloutXrange(f, midx, endx):\n",
    "    fxs = []\n",
    "    x = midx\n",
    "    while True:\n",
    "        try: f(x)\n",
    "        except:\n",
    "            break\n",
    "        fxs.append(x)\n",
    "        x += (endx - midx)/100\n",
    "    return fxs\n",
    "\n",
    "midx = (min(xs) + max(xs))/2    \n",
    "\n",
    "xpos = feeloutXrange(f0, midx, max(xs))\n",
    "xnegs = feeloutXrange(f0, midx, min(xs))\n",
    "xs_ellipse = xnegs[::-1] + xpos[1:]\n",
    "\n",
    "y0s = [f0(x) for x in xs_ellipse]\n",
    "y1s = [f1(x) for x in xs_ellipse]\n",
    "\n",
    "ys_ellipse = y0s + y1s[::-1] + [y0s[0]] # add y start point to end to close drawing\n",
    "\n",
    "xs_ellipse = xs_ellipse + xs_ellipse[::-1] + [xs_ellipse[0]] # added x start point\n",
    "\n",
    "\n",
    "plt.scatter(xs, ys)\n",
    "plt.scatter(xs, y0, s=100, color = 'red', marker='+')\n",
    "plt.scatter(xs, y1, s=100, color = 'green', marker='+')\n",
    "plt.plot(xs_ellipse, ys_ellipse)\n",
    "plt.show()"
   ]
  },
  {
   "cell_type": "code",
   "execution_count": null,
   "metadata": {},
   "outputs": [],
   "source": []
  }
 ],
 "metadata": {
  "kernelspec": {
   "display_name": "Python 3",
   "language": "python",
   "name": "python3"
  },
  "language_info": {
   "codemirror_mode": {
    "name": "ipython",
    "version": 3
   },
   "file_extension": ".py",
   "mimetype": "text/x-python",
   "name": "python",
   "nbconvert_exporter": "python",
   "pygments_lexer": "ipython3",
   "version": "3.6.4"
  }
 },
 "nbformat": 4,
 "nbformat_minor": 2
}
