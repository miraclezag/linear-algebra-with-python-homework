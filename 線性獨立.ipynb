{
 "cells": [
  {
   "cell_type": "markdown",
   "metadata": {},
   "source": [
    "# numpy  Rn線性獨立判斷"
   ]
  },
  {
   "cell_type": "code",
   "execution_count": 1,
   "metadata": {
    "collapsed": false
   },
   "outputs": [
    {
     "name": "stdout",
     "output_type": "stream",
     "text": [
      "冗員: [[0 1 1 0]]\n"
     ]
    }
   ],
   "source": [
    "#利用Eigenvalue 去找出現線性相依的向量\n",
    "import numpy as np\n",
    "matrix = np.array(\n",
    "    [\n",
    "        [0, 1 ,0 ,0],   #向量用矩陣表示\n",
    "        [0, 0, 1, 0],\n",
    "        [0, 1, 1, 0],\n",
    "        [1, 0, 0, 1]\n",
    "    ])\n",
    "\n",
    "lambdas, V =  np.linalg.eig(matrix.T)\n",
    "print (\"冗員:\", matrix[lambdas == 0,:]) # 線性相依的row"
   ]
  },
  {
   "cell_type": "markdown",
   "metadata": {},
   "source": [
    "# sympy  Rn、多項式  線性獨立判斷"
   ]
  },
  {
   "cell_type": "code",
   "execution_count": 38,
   "metadata": {
    "collapsed": false
   },
   "outputs": [
    {
     "name": "stdout",
     "output_type": "stream",
     "text": [
      "x1的係數＝ [1, 1, 1] x2的係數＝ [2, 2, 1] x3的係數＝ [3, 1, 2]\n",
      "第 [1, 2, 3] 行 是線性獨立\n",
      "[0, 1, 3]\n",
      "0\n",
      "1\n",
      "3\n",
      "第 [1, 2, 4] 行 是線性獨立\n"
     ]
    }
   ],
   "source": [
    "import sympy\n",
    "from sympy import *\n",
    "\n",
    "x=symbols(\"x\")\n",
    "x1=poly(x**2+x+1*x**0,x)\n",
    "x2 = poly(2*x**2+2*x+1*x**0,x)\n",
    "x3 = poly(3*x**2+1*x+2*x**0,x)\n",
    "print(\"x1的係數＝\",x1.coeffs(),\"x2的係數＝\",x2.coeffs(),\"x3的係數＝\",x3.coeffs())\n",
    "m=Matrix([x1.coeffs(),#將多項式的係數轉換成矩陣形式做線性獨立的判斷\n",
    "         x2.coeffs(),\n",
    "         x3.coeffs()])\n",
    "\n",
    "\n",
    "_,independent_rows = sympy.Matrix(m).T.rref()  #利用高斯消去法求得階梯形矩陣(echelon form)去找出現線性獨立\n",
    "\n",
    "a_list=list(independent_rows)\n",
    "for i in a_list:\n",
    "    a_list[i]=a_list[i]+1\n",
    "    \n",
    "print(\"第\",a_list,\"行 是線性獨立\")\n",
    "\n"
   ]
  },
  {
   "cell_type": "code",
   "execution_count": null,
   "metadata": {
    "collapsed": true
   },
   "outputs": [],
   "source": [
    "# 將Rn以矩陣方式去做線性獨立的判斷\n",
    "matrix = np.array([[0,1,0,0],[0,0,1,0],[0,1,1,0],[1,0,0,1]]) \n",
    "_, independent_rows = sympy.Matrix(matrix).T.rref()   # to check the rows -->transpose!\n",
    "b_list=list(independent_rows)\n",
    "new_list = []\n",
    "for i in b_list:\n",
    "    new_list.append(i + 1)\n",
    "    \n",
    "print(\"第\",new_list,\"行 是線性獨立\")\n",
    "\n"
   ]
  },
  {
   "cell_type": "code",
   "execution_count": null,
   "metadata": {
    "collapsed": true
   },
   "outputs": [],
   "source": []
  }
 ],
 "metadata": {
  "kernelspec": {
   "display_name": "Python 3",
   "language": "python",
   "name": "python3"
  },
  "language_info": {
   "codemirror_mode": {
    "name": "ipython",
    "version": 3
   },
   "file_extension": ".py",
   "mimetype": "text/x-python",
   "name": "python",
   "nbconvert_exporter": "python",
   "pygments_lexer": "ipython3",
   "version": "3.5.2"
  }
 },
 "nbformat": 4,
 "nbformat_minor": 2
}
