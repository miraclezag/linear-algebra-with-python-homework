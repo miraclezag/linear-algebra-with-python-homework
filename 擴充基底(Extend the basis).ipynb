{
 "cells": [
  {
   "cell_type": "code",
   "execution_count": 75,
   "metadata": {},
   "outputs": [],
   "source": [
    "%matplotlib inline\n",
    "import numpy as np\n",
    "import matplotlib.pyplot as plt\n",
    "import sympy as sp\n",
    "sp.init_printing()"
   ]
  },
  {
   "cell_type": "code",
   "execution_count": 76,
   "metadata": {},
   "outputs": [
    {
     "data": {
      "text/latex": [
       "$$\\left[\\begin{matrix}-2 & 1 & -5 & -7 & -5 & 4 & -2\\\\0 & 1 & 1 & 1 & 0 & 0 & 0\\\\0 & -2 & 0 & 0 & 1 & 0 & 0\\\\-1 & -1 & 1 & 0 & 0 & 1 & 0\\\\-1 & -1 & 1 & 0 & 0 & 0 & 1\\end{matrix}\\right]$$"
      ],
      "text/plain": [
       "⎡-2  1   -5  -7  -5  4  -2⎤\n",
       "⎢                         ⎥\n",
       "⎢0   1   1   1   0   0  0 ⎥\n",
       "⎢                         ⎥\n",
       "⎢0   -2  0   0   1   0  0 ⎥\n",
       "⎢                         ⎥\n",
       "⎢-1  -1  1   0   0   1  0 ⎥\n",
       "⎢                         ⎥\n",
       "⎣-1  -1  1   0   0   0  1 ⎦"
      ]
     },
     "execution_count": 76,
     "metadata": {},
     "output_type": "execute_result"
    }
   ],
   "source": [
    "A= sp.Matrix([[-2,0,0,-1,-1], [1,1,-2,-1,-1],\n",
    "              [-5,1,0,1,1], [-7,1,0,0,0], \n",
    "               [-5,0,1,0,0], [4,0,0,1,0], \n",
    "               [-2,0,0,0,1]])\n",
    "B= A.T\n",
    "B"
   ]
  },
  {
   "cell_type": "code",
   "execution_count": 77,
   "metadata": {},
   "outputs": [
    {
     "data": {
      "text/latex": [
       "$$\\left ( \\left[\\begin{matrix}1 & 0 & 0 & 1 & 1 & 0 & -1\\\\0 & 1 & 0 & 0 & - \\frac{1}{2} & 0 & 0\\\\0 & 0 & 1 & 1 & \\frac{1}{2} & 0 & 0\\\\0 & 0 & 0 & 0 & 0 & 1 & -1\\\\0 & 0 & 0 & 0 & 0 & 0 & 0\\end{matrix}\\right], \\quad \\left ( 0, \\quad 1, \\quad 2, \\quad 5\\right )\\right )$$"
      ],
      "text/plain": [
       "⎛⎡1  0  0  1   1    0  -1⎤              ⎞\n",
       "⎜⎢                       ⎥              ⎟\n",
       "⎜⎢0  1  0  0  -1/2  0  0 ⎥              ⎟\n",
       "⎜⎢                       ⎥              ⎟\n",
       "⎜⎢0  0  1  1  1/2   0  0 ⎥, (0, 1, 2, 5)⎟\n",
       "⎜⎢                       ⎥              ⎟\n",
       "⎜⎢0  0  0  0   0    1  -1⎥              ⎟\n",
       "⎜⎢                       ⎥              ⎟\n",
       "⎝⎣0  0  0  0   0    0  0 ⎦              ⎠"
      ]
     },
     "execution_count": 77,
     "metadata": {},
     "output_type": "execute_result"
    }
   ],
   "source": [
    "B.rref()"
   ]
  },
  {
   "cell_type": "code",
   "execution_count": 7,
   "metadata": {},
   "outputs": [
    {
     "data": {
      "text/latex": [
       "$$\\left[\\begin{matrix}-2 & 1 & -5 & 4\\\\0 & 1 & 1 & 0\\\\0 & -2 & 0 & 0\\\\-1 & -1 & 1 & 1\\\\-1 & -1 & 1 & 0\\end{matrix}\\right]$$"
      ],
      "text/plain": [
       "⎡-2  1   -5  4⎤\n",
       "⎢             ⎥\n",
       "⎢0   1   1   0⎥\n",
       "⎢             ⎥\n",
       "⎢0   -2  0   0⎥\n",
       "⎢             ⎥\n",
       "⎢-1  -1  1   1⎥\n",
       "⎢             ⎥\n",
       "⎣-1  -1  1   0⎦"
      ]
     },
     "execution_count": 7,
     "metadata": {},
     "output_type": "execute_result"
    }
   ],
   "source": [
    "r= B.rref()[1]\n",
    "r\n",
    "B.col(r)"
   ]
  },
  {
   "cell_type": "markdown",
   "metadata": {},
   "source": [
    "# S={$1+x+x^2+x^3$,$1−3x^2$} 擴充到 $ P$$3$$(R)$"
   ]
  },
  {
   "cell_type": "code",
   "execution_count": 141,
   "metadata": {},
   "outputs": [],
   "source": [
    "import sympy as sp\n",
    "x = sp.symbols('x')\n",
    "a=1+x+x**2+x**3\n",
    "b=1-3*x**2"
   ]
  },
  {
   "cell_type": "code",
   "execution_count": 137,
   "metadata": {},
   "outputs": [
    {
     "data": {
      "image/png": "[encoded data removed]",
      "text/latex": [
       "$$\\left [ 1, \\quad 1, \\quad 1, \\quad 1\\right ]$$"
      ],
      "text/plain": [
       "[1, 1, 1, 1]"
      ]
     },
     "execution_count": 137,
     "metadata": {},
     "output_type": "execute_result"
    }
   ],
   "source": [
    "A=sp.poly(a)\n",
    "B=sp.poly(b)\n",
    "cof_a=A.coeffs()\n",
    "cof_a # x**3+x**2+1"
   ]
  },
  {
   "cell_type": "code",
   "execution_count": 138,
   "metadata": {},
   "outputs": [],
   "source": [
    "cof_b=B.all_coeffs()"
   ]
  },
  {
   "cell_type": "code",
   "execution_count": 139,
   "metadata": {},
   "outputs": [
    {
     "data": {
      "image/png": "[encoded data removed]",
      "text/latex": [
       "$$\\left [ 0, \\quad -3, \\quad 0, \\quad 1\\right ]$$"
      ],
      "text/plain": [
       "[0, -3, 0, 1]"
      ]
     },
     "execution_count": 139,
     "metadata": {},
     "output_type": "execute_result"
    }
   ],
   "source": [
    "cof_b.insert(0,0) #add x**3's coeff=0 to index=0\n",
    "cof_b #-3*x**2+1"
   ]
  },
  {
   "cell_type": "code",
   "execution_count": 90,
   "metadata": {},
   "outputs": [
    {
     "name": "stdout",
     "output_type": "stream",
     "text": [
      "轉置後的矩陣：\n"
     ]
    },
    {
     "data": {
      "text/latex": [
       "$$\\left[\\begin{matrix}1 & 0 & 0 & 0 & 0 & 1\\\\1 & -3 & 0 & 1 & 0 & 0\\\\1 & 0 & 0 & 0 & 1 & 0\\\\1 & 1 & 1 & 0 & 0 & 0\\end{matrix}\\right]$$"
      ],
      "text/plain": [
       "⎡1  0   0  0  0  1⎤\n",
       "⎢                 ⎥\n",
       "⎢1  -3  0  1  0  0⎥\n",
       "⎢                 ⎥\n",
       "⎢1  0   0  0  1  0⎥\n",
       "⎢                 ⎥\n",
       "⎣1  1   1  0  0  0⎦"
      ]
     },
     "execution_count": 90,
     "metadata": {},
     "output_type": "execute_result"
    }
   ],
   "source": [
    "e1=[0,0,0,1]\n",
    "e2=[0,1,0,0]\n",
    "e3=[0,0,1,0]\n",
    "e4=[1,0,0,0]\n",
    "matrix=sp.Matrix([cof_a,cof_b,e1,e2,e3,e4])\n",
    "matrix=matrix.T\n",
    "print('轉置後的矩陣：')\n",
    "matrix"
   ]
  },
  {
   "cell_type": "code",
   "execution_count": 96,
   "metadata": {},
   "outputs": [
    {
     "name": "stdout",
     "output_type": "stream",
     "text": [
      "高斯消去法結果：\n"
     ]
    },
    {
     "data": {
      "text/latex": [
       "$$\\left ( \\left[\\begin{matrix}1 & 0 & 0 & 0 & 0 & 1\\\\0 & 1 & 0 & - \\frac{1}{3} & 0 & \\frac{1}{3}\\\\0 & 0 & 1 & \\frac{1}{3} & 0 & - \\frac{4}{3}\\\\0 & 0 & 0 & 0 & 1 & -1\\end{matrix}\\right], \\quad \\left ( 0, \\quad 1, \\quad 2, \\quad 4\\right )\\right )$$"
      ],
      "text/plain": [
       "⎛⎡1  0  0   0    0   1  ⎤              ⎞\n",
       "⎜⎢                      ⎥              ⎟\n",
       "⎜⎢0  1  0  -1/3  0  1/3 ⎥              ⎟\n",
       "⎜⎢                      ⎥, (0, 1, 2, 4)⎟\n",
       "⎜⎢0  0  1  1/3   0  -4/3⎥              ⎟\n",
       "⎜⎢                      ⎥              ⎟\n",
       "⎝⎣0  0  0   0    1   -1 ⎦              ⎠"
      ]
     },
     "execution_count": 96,
     "metadata": {},
     "output_type": "execute_result"
    }
   ],
   "source": [
    "print(\"高斯消去法結果：\")\n",
    "matrix.rref()"
   ]
  },
  {
   "cell_type": "code",
   "execution_count": 130,
   "metadata": {},
   "outputs": [
    {
     "name": "stdout",
     "output_type": "stream",
     "text": [
      "基底是:\n"
     ]
    },
    {
     "data": {
      "text/latex": [
       "$$\\left[\\begin{matrix}1 & 0 & 0 & 0\\\\1 & -3 & 0 & 0\\\\1 & 0 & 0 & 1\\\\1 & 1 & 1 & 0\\end{matrix}\\right]$$"
      ],
      "text/plain": [
       "⎡1  0   0  0⎤\n",
       "⎢           ⎥\n",
       "⎢1  -3  0  0⎥\n",
       "⎢           ⎥\n",
       "⎢1  0   0  1⎥\n",
       "⎢           ⎥\n",
       "⎣1  1   1  0⎦"
      ]
     },
     "execution_count": 130,
     "metadata": {},
     "output_type": "execute_result"
    }
   ],
   "source": [
    "answer=matrix.col(r)\n",
    "print (\"基底是:\")\n",
    "answer"
   ]
  },
  {
   "cell_type": "code",
   "execution_count": null,
   "metadata": {},
   "outputs": [],
   "source": []
  }
 ],
 "metadata": {
  "kernelspec": {
   "display_name": "Python 3",
   "language": "python",
   "name": "python3"
  },
  "language_info": {
   "codemirror_mode": {
    "name": "ipython",
    "version": 3
   },
   "file_extension": ".py",
   "mimetype": "text/x-python",
   "name": "python",
   "nbconvert_exporter": "python",
   "pygments_lexer": "ipython3",
   "version": "3.6.4"
  }
 },
 "nbformat": 4,
 "nbformat_minor": 2
}
